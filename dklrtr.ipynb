{
  "nbformat": 4,
  "nbformat_minor": 0,
  "metadata": {
    "colab": {
      "name": "dklrtr.ipynb",
      "version": "0.3.2",
      "provenance": [],
      "collapsed_sections": []
    },
    "kernelspec": {
      "name": "python3",
      "display_name": "Python 3"
    },
    "accelerator": "GPU"
  },
  "cells": [
    {
      "cell_type": "code",
      "metadata": {
        "id": "itrZ4kzc5aq0",
        "colab_type": "code",
        "colab": {}
      },
      "source": [
        "import numpy as np\n",
        "import pandas as pd\n",
        "import urllib.request, json\n",
        "from tqdm import tqdm\n",
        "import cupy as cp\n",
        "import collections"
      ],
      "execution_count": 0,
      "outputs": []
    },
    {
      "cell_type": "code",
      "metadata": {
        "id": "PzTpqDmM7j01",
        "colab_type": "code",
        "colab": {}
      },
      "source": [
        "!pip install --upgrade -q gspread"
      ],
      "execution_count": 0,
      "outputs": []
    },
    {
      "cell_type": "code",
      "metadata": {
        "id": "kiCZ8xQw7qu6",
        "colab_type": "code",
        "colab": {}
      },
      "source": [
        "#авторизация гугл аккуанта\n",
        "#зайти по ссылке, зайти на аккуант гугла, разрешить доступ и скопировать код в специальную ячейку\n",
        "#enter\n",
        "from google.colab import auth\n",
        "auth.authenticate_user()\n",
        "\n",
        "import gspread\n",
        "from oauth2client.client import GoogleCredentials"
      ],
      "execution_count": 0,
      "outputs": []
    },
    {
      "cell_type": "code",
      "metadata": {
        "id": "HwBZZel95e8w",
        "colab_type": "code",
        "colab": {}
      },
      "source": [
        "#скачивание данных с декларатора\n",
        "import urllib.request, json \n",
        "with urllib.request.urlopen(\"https://declarator.org/media/dumps/declarations.json\") as url:\n",
        "    data = json.loads(url.read().decode())"
      ],
      "execution_count": 0,
      "outputs": []
    },
    {
      "cell_type": "code",
      "metadata": {
        "id": "7n1RL0jAXfvY",
        "colab_type": "code",
        "colab": {}
      },
      "source": [
        "class dataset():\n",
        "    \n",
        "    def __init__(self, data):\n",
        "        self.data = data\n",
        "        #self.clean_data()\n",
        "        #разделение на женщин, мужчин и тех, у кого не удалось установить пол\n",
        "        self.not_have_gender, self.male, self.female = self.find_gender()\n",
        "        \n",
        "        #все декларации разбиваем по годам в соотвествии с полом\n",
        "        #для женщин\n",
        "        self.array_2008_male,self.array_2009_male,self.array_2010_male,self.array_2011_male, \\\n",
        "        self.array_2012_male,self.array_2013_male,\\\n",
        "        self.array_2014_male,self.array_2015_male,self.array_2016_male, \\\n",
        "        self.array_2017_male,self.array_2018_male = self.groups_of_years(self.male)\n",
        "        \n",
        "        #для мужчин\n",
        "        self.array_2008_female,self.array_2009_female,self.array_2010_female,self.array_2011_female, \\\n",
        "        self.array_2012_female,self.array_2013_female,\\\n",
        "        self.array_2014_female,self.array_2015_female,self.array_2016_female, \\\n",
        "        self.array_2017_female,self.array_2018_female = self.groups_of_years(self.female)\n",
        "        \n",
        "        \n",
        "        #заполнение данных\n",
        "        #id, пол, заработок, кол-во площади, кол-во машин, кол-во недвиж в россии, кол-во недвижимости на западе\n",
        "        #для женщин\n",
        "        self.data_array_2008_female = self.fill(self.array_2008_female)\n",
        "        self.data_array_2009_female = self.fill(self.array_2009_female)\n",
        "        self.data_array_2010_female = self.fill(self.array_2010_female)\n",
        "        self.data_array_2011_female = self.fill(self.array_2011_female)\n",
        "        self.data_array_2012_female = self.fill(self.array_2012_female)\n",
        "        self.data_array_2013_female = self.fill(self.array_2013_female)\n",
        "        self.data_array_2014_female = self.fill(self.array_2014_female)\n",
        "        self.data_array_2015_female = self.fill(self.array_2015_female)\n",
        "        self.data_array_2016_female = self.fill(self.array_2016_female)\n",
        "        self.data_array_2017_female = self.fill(self.array_2017_female)\n",
        "        self.data_array_2018_female = self.fill(self.array_2018_female)\n",
        "        \n",
        "        #для мужчин\n",
        "        self.data_array_2008_male = self.fill(self.array_2008_male)\n",
        "        self.data_array_2009_male = self.fill(self.array_2009_male)\n",
        "        self.data_array_2010_male = self.fill(self.array_2010_male)\n",
        "        self.data_array_2011_male = self.fill(self.array_2011_male)\n",
        "        self.data_array_2012_male = self.fill(self.array_2012_male)\n",
        "        self.data_array_2013_male = self.fill(self.array_2013_male)\n",
        "        self.data_array_2014_male = self.fill(self.array_2014_male)\n",
        "        self.data_array_2015_male = self.fill(self.array_2015_male)\n",
        "        self.data_array_2016_male = self.fill(self.array_2016_male)\n",
        "        self.data_array_2017_male = self.fill(self.array_2017_male)\n",
        "        self.data_array_2018_male = self.fill(self.array_2018_male)\n",
        "\n",
        "#     def clean_data(self):\n",
        "#         for i in range(len(self.data)):\n",
        "#             #print(i)\n",
        "#             if 'office' in self.data[i]['main']:\n",
        "#                 del self.data[i]['main']['office']\n",
        "#             if len(self.data[i]['real_estates']) > 0 :\n",
        "#                 if self.data[i]['real_estates'][0]['region'] != None:\n",
        "#                     if 'name' in self.data[i]['real_estates'][0]['region']:\n",
        "#                             del self.data[i]['real_estates'][0]['region']['name']\n",
        "#             if len(self.data[i]['incomes']) > 0 :\n",
        "#                 if self.data[i]['incomes'][0] != None:\n",
        "#                     if 'comment' in self.data[i]['incomes'][0]:\n",
        "#                             del self.data[i]['incomes'][0]['comment']\n",
        "#             if 'party' in self.data[i]['main']:\n",
        "#                 del self.data[i]['main']['party']\n",
        "#             if 'document_type' in self.data[i]['main']:\n",
        "#                 del self.data[i]['main']['document_type']\n",
        "    \n",
        "    #функция поиска гендера\n",
        "    def find_gender(self):\n",
        "        not_have_gender = []\n",
        "        male = []\n",
        "        female = []\n",
        "        for i in range(len(self.data)):\n",
        "            if self.data[i]['main']['person']['gender'] != None:\n",
        "                if 'M' in self.data[i]['main']['person']['gender']:\n",
        "                    male.append(self.data[i])\n",
        "                if 'F' in self.data[i]['main']['person']['gender']:\n",
        "                    female.append(self.data[i])\n",
        "            else:\n",
        "                not_have_gender.append(self.data[i])\n",
        "        return not_have_gender, male, female\n",
        "      \n",
        "    #группировка по годам\n",
        "    def groups_of_years(self, data):\n",
        "        array_2008 = []\n",
        "        array_2009 = []\n",
        "        array_2010 = []\n",
        "        array_2011 = []\n",
        "        array_2012 = []\n",
        "        array_2013 = []\n",
        "        array_2014 = []\n",
        "        array_2015 = []\n",
        "        array_2016 = []\n",
        "        array_2017 = []\n",
        "        array_2018 = []\n",
        "        for i in range(len(data)):\n",
        "            if data[i]['main']['year'] == 2008:\n",
        "                array_2008.append(data[i])\n",
        "            if data[i]['main']['year'] == 2009:\n",
        "                array_2009.append(data[i])\n",
        "            if data[i]['main']['year'] == 2010:\n",
        "                array_2010.append(data[i])\n",
        "            if data[i]['main']['year'] == 2011:\n",
        "                array_2011.append( data[i])\n",
        "            if data[i]['main']['year'] == 2012:\n",
        "                array_2012.append( data[i])\n",
        "            if data[i]['main']['year'] == 2013:\n",
        "                array_2013.append( data[i])\n",
        "            if data[i]['main']['year'] == 2014:\n",
        "                array_2014.append(data[i])\n",
        "            if data[i]['main']['year'] == 2015:\n",
        "                array_2015.append( data[i])\n",
        "            if data[i]['main']['year'] == 2016:\n",
        "                array_2016.append( data[i])\n",
        "            if data[i]['main']['year'] == 2017:\n",
        "                array_2017.append( data[i])\n",
        "            if data[i]['main']['year'] == 2018:\n",
        "                array_2018.append( data[i])\n",
        "        return array_2008,array_2009,array_2010,array_2011,array_2012,array_2013,\\\n",
        "                array_2014,array_2015,array_2016,array_2017,array_2018\n",
        "     \n",
        "    #заполнение\n",
        "    def fill(self, data):\n",
        "      data_array = []\n",
        "      for i in range(len(data)):\n",
        "          \n",
        "          array = []\n",
        "          \n",
        "#           person = data[i]['main']['person']['id']\n",
        "          \n",
        "#           gender = data[i]['main']['person']['gender']\n",
        "          \n",
        "          inc = 0\n",
        "          for j in range(len(data[i]['incomes'])):\n",
        "              if data[i]['incomes'][j]['relative'] != None:\n",
        "                  inc+= data[i]['incomes'][j]['size']\n",
        "              if data[i]['incomes'][j]['relative'] == None:\n",
        "                  inc+= data[i]['incomes'][j]['size']\n",
        "              \n",
        "\n",
        "\n",
        "          count = 0\n",
        "          for data_str in data[i]['real_estates']:\n",
        "              if data_str['relative'] == None:\n",
        "                  if data_str['square'] != None:\n",
        "                      count += data_str['square']\n",
        "              else:\n",
        "                  if data_str['square'] != None:\n",
        "                      count += data_str['square']\n",
        "\n",
        "\n",
        "          amount = 0\n",
        "          for data_str in data[i]['vehicles']:\n",
        "              if data_str['relative'] == None:\n",
        "                  amount += 1\n",
        "              else:\n",
        "                  amount += 1\n",
        "\n",
        "\n",
        "          rus = 0\n",
        "          zapad = 0\n",
        "          for j in range(len(data[i]['real_estates'])):\n",
        "              if data[i]['real_estates'][j]['relative'] != None:\n",
        "                  if data[i]['real_estates'][j]['country'] == 'Россия':\n",
        "                      rus+=1\n",
        "                  else:\n",
        "                      zapad +=1\n",
        "              else:\n",
        "                  if data[i]['real_estates'][j]['country'] == 'Россия':\n",
        "                      rus+=1\n",
        "                  else:\n",
        "                      zapad +=1\n",
        "                      \n",
        "          if inc > 1 and count > 1:\n",
        "            data_array.append([data[i]['main']['person']['id'], \n",
        "                          data[i]['main']['person']['gender'],\n",
        "                          inc, count, amount, rus, zapad])\n",
        "                      \n",
        "      return data_array\n",
        "    \n",
        "    #функция сравнения \n",
        "    def com(self, row_a, row_b):\n",
        "      if ((np.absolute( float(row_a[2]) - float(row_b[2]) ) < 2) and\n",
        "              (np.absolute( float(row_a[3]) - float(row_b[3])) < 2) and\n",
        "                  (row_a[4] == row_b[4]) and\n",
        "                      (row_a[5] == row_b[5]) and\n",
        "                          (row_a[6] == row_b[6])):\n",
        "          return True\n",
        "      else:\n",
        "          return False\n",
        "    \n",
        "    \n",
        "    #главная функция сравнения :)\n",
        "    def compare(self, d1, d2):\n",
        "      pairs = []\n",
        "      for value in tqdm(d1, position=0):\n",
        "          df_col = []\n",
        "          #print(len(d2))\n",
        "          #print('new value = ', value)\n",
        "          for j in range(len(d2)):\n",
        "            df_col.append(value)\n",
        "          #print('len =', len(df_col))\n",
        "          res_col =  list(map(self.com, df_col, d2))\n",
        "          #print('new_len =', len(res_col) )\n",
        "#           #print('first_itr = ', len(res_col))\n",
        "          for n in range(len(res_col)):\n",
        "              #print('fffffff')\n",
        "              if res_col[n] == True:\n",
        "                pairs.append( [value[0],  d2[n][0]] )\n",
        "                #print(value[0], 'is similar to', d2[n][0])\n",
        "      return pairs\n",
        "    \n",
        "    #заполнение гугл таблицы\n",
        "    def pairs_sheet(self, num_work, pairs,year):\n",
        "      ind_year = sh.get_worksheet(num_work).row_values(1).index(year) +1\n",
        "      for pair in tqdm(pairs, position = 0):\n",
        "        if str(pair[0]) in sh.get_worksheet(num_work).col_values(1):\n",
        "          ind = sh.get_worksheet(num_work).col_values(1).index(str(pair[0]))\n",
        "          if  sh.get_worksheet(num_work).col_values(2)[ind] == str(pair[1]) :\n",
        "            sh.get_worksheet(num_work).update_cell(ind+1, ind_year , 1)\n",
        "          else:\n",
        "            print('smth goes wrong', pair, 'and', sh.get_worksheet(num_work).col_values(2)[ind])\n",
        "        else:\n",
        "          print('there is no pair in this sheet:', pair)\n",
        "          sh.get_worksheet(num_work).update_cell(len(sh.get_worksheet(num_work).col_values(1))+1, 1, pair[0])\n",
        "          sh.get_worksheet(num_work).update_cell(len(sh.get_worksheet(num_work).col_values(2))+1, 2, pair[1])\n",
        "          sh.get_worksheet(num_work).update_cell(sh.get_worksheet(num_work).col_values(1).index(str(pair[0])) +1, ind_year , 1)\n",
        "          \n",
        "    #удаление строк в гугл таблице, если нет уверенности по данным, те для всех тех, у кого стоит 1 подтверждение супружества      \n",
        "    def del_rows(self, num_work):\n",
        "      n = 2\n",
        "      l = len(sh.get_worksheet(num_work).col_values(1))\n",
        "      while n < l:\n",
        "        #try:\n",
        "        if sh.get_worksheet(num_work).row_values(n) != []:\n",
        "          dic = collections.Counter( sh.get_worksheet(num_work).row_values(n) )\n",
        "          if dic['1'] >= 2:\n",
        "            n+=1\n",
        "          else:\n",
        "            sh.get_worksheet(num_work).delete_row(n)\n",
        "            print('Del row:', n)\n",
        "            n -=1\n",
        "        else:\n",
        "          break\n",
        "#         except:\n",
        "#           gc = gspread.authorize(GoogleCredentials.get_application_default())\n",
        "#           sh = gc.open('Супружеские пары')\n",
        "            \n",
        "            \n",
        "            "
      ],
      "execution_count": 0,
      "outputs": []
    },
    {
      "cell_type": "code",
      "metadata": {
        "id": "XJ0LZjfWXzjl",
        "colab_type": "code",
        "colab": {}
      },
      "source": [
        "#инициируем класс\n",
        "dt = dataset(data)"
      ],
      "execution_count": 0,
      "outputs": []
    },
    {
      "cell_type": "code",
      "metadata": {
        "id": "4mgsTwDB-gcx",
        "colab_type": "code",
        "outputId": "ae49ba00-9cba-46de-a94c-86cf20c418eb",
        "colab": {
          "base_uri": "https://localhost:8080/",
          "height": 34
        }
      },
      "source": [
        "#сравнение и поиск пар\n",
        "#по необходимости раскоментить и вызвать функцию\n",
        "#можно раскоментить и все, а можно только те года, которые интересуют\n",
        "#ничего в данных менять не нужно, просто раскоментить интересующий код и запустить\n",
        "\n",
        "# pairs_2008 = dt.compare(dt.data_array_2008_male, dt.data_array_2008_female)\n",
        "# pairs_2009 = dt.compare(dt.data_array_2009_male, dt.data_array_2009_female)\n",
        "# pairs_2010 = dt.compare(dt.data_array_2010_male, dt.data_array_2010_female)\n",
        "# pairs_2011 = dt.compare(dt.data_array_2011_male, dt.data_array_2011_female)\n",
        "# pairs_2012 = dt.compare(dt.data_array_2012_male, dt.data_array_2012_female)\n",
        "# pairs_2013 = dt.compare(dt.data_array_2013_male, dt.data_array_2013_female)\n",
        "# pairs_2014 = dt.compare(dt.data_array_2014_male, dt.data_array_2014_female)\n",
        "# pairs_2015 = dt.compare(dt.data_array_2015_male, dt.data_array_2015_female)\n",
        "# pairs_2016 = dt.compare(dt.data_array_2016_male, dt.data_array_2016_female)\n",
        "# pairs_2017 = dt.compare(dt.data_array_2017_male, dt.data_array_2017_female)\n",
        "# pairs_2018 = dt.compare(dt.data_array_2018_male, dt.data_array_2018_female)"
      ],
      "execution_count": 97,
      "outputs": [
        {
          "output_type": "stream",
          "text": [
            "100%|██████████| 2060/2060 [00:02<00:00, 698.28it/s]\n"
          ],
          "name": "stderr"
        }
      ]
    },
    {
      "cell_type": "code",
      "metadata": {
        "id": "OPsm8IZzXCiR",
        "colab_type": "code",
        "colab": {}
      },
      "source": [
        "#подключаемся к гугл-таблице, название = название существующей таблице в вашем гугл аккуанте\n",
        "gc = gspread.authorize(GoogleCredentials.get_application_default())\n",
        "sh = gc.open('Супружеские пары')"
      ],
      "execution_count": 0,
      "outputs": []
    },
    {
      "cell_type": "code",
      "metadata": {
        "id": "H4duxlhWI1qm",
        "colab_type": "code",
        "colab": {
          "base_uri": "https://localhost:8080/",
          "height": 68
        },
        "outputId": "396192a8-e148-4f2b-9ac3-59d7afd4df24"
      },
      "source": [
        "#какой год заполнения интересует, такую функцию раскоментить и запустить\n",
        "#1 = номер листа, который интересует для заполнения. нумерация происходит страниц с нуля!\n",
        "\n",
        "#dt.pairs_sheet(1, pairs_2008,'2008')\n",
        "#dt.pairs_sheet(1, pairs_2009,'2009')\n",
        "#dt.pairs_sheet(1, pairs_2010,'2010')\n",
        "#dt.pairs_sheet(1, pairs_2011,'2011')\n",
        "#dt.pairs_sheet(1, pairs_2012,'2012')\n",
        "#dt.pairs_sheet(1, pairs_2013,'2013')\n",
        "#dt.pairs_sheet(1, pairs_2014,'2014')\n",
        "#dt.pairs_sheet(1, pairs_2015,'2015')\n",
        "#dt.pairs_sheet(1, pairs_2016,'2016')\n",
        "#dt.pairs_sheet(1, pairs_2017,'2017')\n",
        "dt.pairs_sheet(1, pairs_2018,'2018')"
      ],
      "execution_count": 100,
      "outputs": [
        {
          "output_type": "stream",
          "text": [
            " 20%|██        | 1/5 [00:06<00:24,  6.06s/it]"
          ],
          "name": "stderr"
        },
        {
          "output_type": "stream",
          "text": [
            "there is no pair in this sheet: [58670, 58672]\n"
          ],
          "name": "stdout"
        },
        {
          "output_type": "stream",
          "text": [
            " 60%|██████    | 3/5 [00:21<00:13,  6.73s/it]"
          ],
          "name": "stderr"
        },
        {
          "output_type": "stream",
          "text": [
            "there is no pair in this sheet: [59230, 59231]\n"
          ],
          "name": "stdout"
        },
        {
          "output_type": "stream",
          "text": [
            "100%|██████████| 5/5 [00:34<00:00,  6.30s/it]\n"
          ],
          "name": "stderr"
        }
      ]
    },
    {
      "cell_type": "code",
      "metadata": {
        "id": "Aej4a8dUncaO",
        "colab_type": "code",
        "colab": {
          "base_uri": "https://localhost:8080/",
          "height": 51
        },
        "outputId": "b33dcfd3-cc9f-437b-bb61-878d159a3a2e"
      },
      "source": [
        "#удаление строк, где кол-во подтверждения супружества под сомнением (то есть все те пары, где супружество установлено только по 1 году)\n",
        "#передаем в эту функция НОМЕР листа! \n",
        "#может выдасть ошибку подключения, в таком случае нужно просто еще раз сделать подключение к гугл таблице и снова вызвать эту функцию\n",
        "\n",
        "dt.del_rows(2)"
      ],
      "execution_count": 25,
      "outputs": [
        {
          "output_type": "stream",
          "text": [
            "Del row: 54\n",
            "Del row: 54\n"
          ],
          "name": "stdout"
        }
      ]
    },
    {
      "cell_type": "code",
      "metadata": {
        "id": "ubwBUZuE3wYy",
        "colab_type": "code",
        "colab": {}
      },
      "source": [
        "#ленивая функция, которая сразу показывает разницу между супругами ИЛИ говорит, что декларации в данном году по кому-то отсуствуют\n",
        "#data_men = массив мужчин с интересующим годом\n",
        "#data_women = массив женщин с интересующим годом\n",
        "#number_man = id интересующего мужчины\n",
        "#number_woman = id интересующей женщины\n",
        "\n",
        "def find_difference(data_men, data_women, number_man, number_woman):\n",
        "  x = 0\n",
        "  y = 0 \n",
        "  for i in range(len(data_men)):\n",
        "    if data_men[i][0] == number_man:\n",
        "      x = data_men[i]\n",
        "\n",
        "  for i in range(len(data_women)):\n",
        "    if data_women[i][0] == number_woman:\n",
        "      y = data_women[i]\n",
        "      \n",
        "  if x != 0 and y!=0:\n",
        "    answer = np.subtract(y[2:], x[2:])\n",
        "    return answer\n",
        "  elif x == 0 and y!=0:\n",
        "    print('Нет данных по женщине')\n",
        "  elif y == 0 and x!=0:\n",
        "    print('Нет данных по мужчине')\n",
        "  if x == 0 and y == 0:\n",
        "    print('Нет данных по обоим')\n"
      ],
      "execution_count": 0,
      "outputs": []
    },
    {
      "cell_type": "code",
      "metadata": {
        "id": "KbocH3o1MU9D",
        "colab_type": "code",
        "colab": {
          "base_uri": "https://localhost:8080/",
          "height": 34
        },
        "outputId": "7e39bd48-6764-4c89-aec1-dae9c99c2288"
      },
      "source": [
        "#пример использования функции\n",
        "find_difference(dt.data_array_2014_male, dt.data_array_2014_female, 8493,8504)"
      ],
      "execution_count": 29,
      "outputs": [
        {
          "output_type": "stream",
          "text": [
            "Нет данных по обоим\n"
          ],
          "name": "stdout"
        }
      ]
    },
    {
      "cell_type": "code",
      "metadata": {
        "id": "z6jgmrj0aoE1",
        "colab_type": "code",
        "colab": {}
      },
      "source": [
        ""
      ],
      "execution_count": 0,
      "outputs": []
    }
  ]
}